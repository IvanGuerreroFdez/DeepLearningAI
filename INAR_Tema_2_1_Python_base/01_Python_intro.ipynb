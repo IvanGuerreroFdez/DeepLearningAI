{
 "cells": [
  {
   "cell_type": "markdown",
   "metadata": {},
   "source": [
    "<div style=\"font-size: 200%; font-weight: bold; color: maroon;\">Introducción al lenguaje Python</div>\n"
   ]
  },
  {
   "cell_type": "markdown",
   "metadata": {},
   "source": [
    "# Enlaces recomendados\n",
    "\n",
    "https://www.learnpython.org/es/\n",
    "(Sección \"Aprende las bases\")\n",
    "\n",
    "https://www.w3schools.com/python/python_operators.asp \n",
    "(Lista completa de operadores)"
   ]
  },
  {
   "cell_type": "markdown",
   "metadata": {},
   "source": [
    "## Esencial conocer los operadores básicos en python\n",
    "\n",
    "Las operaciones que vamos a poder realizar con los objetos que definamos son muy extensas. Habrá funciones matemáticas, lógicas, de asignación, comparación ... Es importante conocer la lista completa de operadores y el enlace anterior nos da una fuente -de entre muchas disponibles para conocerlos.\n",
    "\n",
    "Además puede ser una buena idea disponer de una \"chuleta\" (cheatsheet) con la sintaxis básica de python. Una lista de chuletas disponibles en:\n",
    "\n",
    "https://sinxloud.com/python-cheat-sheet-beginner-advanced/\n",
    "\n",
    "Por ejemplo esta:\n",
    "https://github.com/ehmatthes/pcc/releases/download/v1.0.0/beginners_python_cheat_sheet_pcc_all.pdf "
   ]
  },
  {
   "cell_type": "markdown",
   "metadata": {},
   "source": [
    "## 2.1. Sintaxis general\n",
    "\n",
    "Un rasgo muy característico de Python es que su sintaxis hace uso extensivo del espaciado como elemento sintáctico:\n",
    " * no es necesario, como en otros lenguajes, usar un separador específico para sentencias del elenguaje (típicamente usando `;`). Aunque se puede usar, un cambio de línea es suficiente\n",
    " * tampoco es necesario marcar los bloques del lenguaje (funciones, bucles, etc) separándolos con llaves `{` y `}`. En su lugar, los bloques se indican usando distintos niveles de espaciado\n",
    " \n",
    "Por ejemplo, este código es Python válido (no hace falta entenderlo de momento)\n",
    "\n",
    "<!-- ; para anular salida de Notebooks -->"
   ]
  },
  {
   "cell_type": "code",
   "execution_count": 1,
   "metadata": {
    "scrolled": true
   },
   "outputs": [
    {
     "name": "stdout",
     "output_type": "stream",
     "text": [
      "2\n",
      "4\n",
      "6\n",
      "8\n",
      "10\n",
      "12\n",
      "14\n",
      "16\n",
      "18\n",
      "valor final: 10\n"
     ]
    }
   ],
   "source": [
    "# Los comentarios son líneas que comienzan por #\n",
    "from __future__ import print_function\n",
    "\n",
    "f = 1\n",
    "\n",
    "# Los bloques de proceso se distinguen porque tienen mayor espaciado\n",
    "while( f < 10 ):\n",
    "    print( f*2 )\n",
    "    f = f + 1\n",
    "\n",
    "print( \"valor final:\", f)"
   ]
  },
  {
   "cell_type": "markdown",
   "metadata": {},
   "source": [
    "## 2.2. Tipos de datos -tipos de variables y estructuras de control\n",
    "Las variables en Python, al ser un lenguaje dinámico, no necesitan declaración de tipos. Cuando se crean, Python infiere el tipo automáticamente. Los tipos básicos en Python son:\n",
    "* `str` (string)\n",
    "* `int` (integer)\n",
    "* `float` (coma flotante)\n",
    "* `bool` (tipo booleano, puede valer `True` o `False`)\n",
    "\n",
    "Además un tipo especial es `NoneType`, que es un tipo inmutable (sólo toma un valor: `None`). Representa el tipo vacío y se usa muy a menudo (por ejemplo como centinela o valor por defecto)."
   ]
  },
  {
   "cell_type": "code",
   "execution_count": 2,
   "metadata": {},
   "outputs": [],
   "source": [
    "a_string = 'Esto es una cadena'  # comillas simples o dobles\n",
    "\n",
    "un_entero = 23\n",
    "\n",
    "un_numero = 12.45\n",
    "\n",
    "condicion = True\n",
    "\n",
    "nada = None"
   ]
  },
  {
   "cell_type": "code",
   "execution_count": 3,
   "metadata": {},
   "outputs": [
    {
     "data": {
      "text/plain": [
       "'Esto es una cadena'"
      ]
     },
     "execution_count": 3,
     "metadata": {},
     "output_type": "execute_result"
    }
   ],
   "source": [
    "a_string"
   ]
  },
  {
   "cell_type": "markdown",
   "metadata": {},
   "source": [
    "Para conocer el tipo de algo, podemos usar la función `type`"
   ]
  },
  {
   "cell_type": "code",
   "execution_count": 4,
   "metadata": {},
   "outputs": [
    {
     "data": {
      "text/plain": [
       "str"
      ]
     },
     "execution_count": 4,
     "metadata": {},
     "output_type": "execute_result"
    }
   ],
   "source": [
    "type(a_string)"
   ]
  },
  {
   "cell_type": "code",
   "execution_count": 5,
   "metadata": {},
   "outputs": [],
   "source": [
    "otro = un_entero * (un_numero + 12)"
   ]
  },
  {
   "cell_type": "code",
   "execution_count": 6,
   "metadata": {},
   "outputs": [
    {
     "data": {
      "text/plain": [
       "float"
      ]
     },
     "execution_count": 6,
     "metadata": {},
     "output_type": "execute_result"
    }
   ],
   "source": [
    "type(otro)"
   ]
  },
  {
   "cell_type": "markdown",
   "metadata": {},
   "source": [
    "**Acceso a partes de una cadena**\n",
    "\n",
    "Se puede acceder a porciones de una cadena con el operador de indexado: los corchetes: Podemos acceder a un caracter, o a un grupo de ellos.\n",
    "\n",
    "En Python el primer elemento es el 0"
   ]
  },
  {
   "cell_type": "code",
   "execution_count": 7,
   "metadata": {},
   "outputs": [
    {
     "data": {
      "text/plain": [
       "'t'"
      ]
     },
     "execution_count": 7,
     "metadata": {},
     "output_type": "execute_result"
    }
   ],
   "source": [
    "a_string[2]"
   ]
  },
  {
   "cell_type": "code",
   "execution_count": 8,
   "metadata": {},
   "outputs": [
    {
     "data": {
      "text/plain": [
       "'Esto'"
      ]
     },
     "execution_count": 8,
     "metadata": {},
     "output_type": "execute_result"
    }
   ],
   "source": [
    "a_string[0:4]"
   ]
  },
  {
   "cell_type": "markdown",
   "metadata": {},
   "source": [
    "Un detalle importante es que las cadenas en Python son _inmutables_, es decir, no se pueden modificar (no se puede coger una cadena y cambiarla). En vez de ello se genera _otra_ cadena a partir de la primera con el cambio necesario."
   ]
  },
  {
   "cell_type": "code",
   "execution_count": 9,
   "metadata": {},
   "outputs": [
    {
     "ename": "TypeError",
     "evalue": "'str' object does not support item assignment",
     "output_type": "error",
     "traceback": [
      "\u001b[0;31m---------------------------------------------------------------------------\u001b[0m",
      "\u001b[0;31mTypeError\u001b[0m                                 Traceback (most recent call last)",
      "Cell \u001b[0;32mIn [9], line 2\u001b[0m\n\u001b[1;32m      1\u001b[0m \u001b[38;5;66;03m# Esto no va a funcionar\u001b[39;00m\n\u001b[0;32m----> 2\u001b[0m \u001b[43ma_string\u001b[49m\u001b[43m[\u001b[49m\u001b[38;5;241;43m3\u001b[39;49m\u001b[43m]\u001b[49m \u001b[38;5;241m=\u001b[39m \u001b[38;5;124m'\u001b[39m\u001b[38;5;124mb\u001b[39m\u001b[38;5;124m'\u001b[39m\n",
      "\u001b[0;31mTypeError\u001b[0m: 'str' object does not support item assignment"
     ]
    }
   ],
   "source": [
    "# Esto no va a funcionar\n",
    "a_string[3] = 'b'"
   ]
  },
  {
   "cell_type": "markdown",
   "metadata": {},
   "source": [
    "### 2.2.1 Variantes de cadena\n",
    "\n",
    "Las cadenas en Python se pueden incluir usando comillas simples o dobles (no hay diferencia). Además, hay algunas variantes adicionales:\n",
    "* el indicador `r` antes de la cadena, es decir, `r'..'` significa _raw string_ . En estas cadenas la barra invertida '\\\\' no tiene un sinificado especial. Se usa sobre todo en expresiones regulares.\n",
    "* el indicador `u` indica que la cadena es de tipo `unicode` (es decir, debe representarse con el juego de símbolos para Unicode). Esto es relevante en Python 2; en Python 3 todas las cadenas son Unicode\n",
    "* el indicador `f` indica que es una cadena con instrucciones de formato. Solo está disponible a partir de Python 3.6\n",
    "* el uso de comillas por triplicado `'''...'''` indica una cadena extendida. Estas cadenas pueden abarcar varias líneas"
   ]
  },
  {
   "cell_type": "code",
   "execution_count": null,
   "metadata": {},
   "outputs": [],
   "source": [
    "c2 = u\"una cadena ...\""
   ]
  },
  {
   "cell_type": "code",
   "execution_count": null,
   "metadata": {},
   "outputs": [],
   "source": [
    "c2 = u\"\"\"una cadena larga\n",
    "posiblemente en varias líneas\"\"\""
   ]
  },
  {
   "cell_type": "code",
   "execution_count": null,
   "metadata": {},
   "outputs": [],
   "source": [
    "c2"
   ]
  },
  {
   "cell_type": "code",
   "execution_count": null,
   "metadata": {},
   "outputs": [],
   "source": [
    "c2 = r'una \\10cadena'\n",
    "c2 = 'una \\10cadena'\n",
    "print(c2)"
   ]
  },
  {
   "cell_type": "markdown",
   "metadata": {
    "collapsed": true
   },
   "source": [
    "### 2.2.2. Estructuras de control\n",
    "\n",
    "Las estructuras típicas de control son en Python:\n",
    "* condicional: `if` .. `elif` .. `else`\n",
    "* iteraciones: `for` & `while`\n",
    "\n",
    "La expresión que sigue a estas palabras debe terminarse con dos puntos `:` <br/>\n",
    "Siguiendo la sintaxis de Python, los bloques afectados por las estructuras de control se distinguen por su nivel de espaciado.\n",
    "\n",
    "Volviendo al ejemplo de antes:"
   ]
  },
  {
   "cell_type": "code",
   "execution_count": 10,
   "metadata": {},
   "outputs": [
    {
     "name": "stdout",
     "output_type": "stream",
     "text": [
      "2\n",
      "4\n",
      "6\n",
      "8\n",
      "10\n",
      "12\n",
      "14\n",
      "16\n",
      "18\n"
     ]
    }
   ],
   "source": [
    "f = 1\n",
    "\n",
    "while( f < 10 ):\n",
    "    print( f*2 )\n",
    "    f = f + 1"
   ]
  },
  {
   "cell_type": "markdown",
   "metadata": {},
   "source": [
    "en cuanto a `if`, como es habitual espera una expresión lógica:"
   ]
  },
  {
   "cell_type": "code",
   "execution_count": 11,
   "metadata": {},
   "outputs": [
    {
     "name": "stdout",
     "output_type": "stream",
     "text": [
      "menor\n"
     ]
    }
   ],
   "source": [
    "a = 4\n",
    "if (a < 5):\n",
    "    print('menor')\n",
    "elif a == 5:\n",
    "    print('igual')\n",
    "else:\n",
    "    print('mayor')\n",
    "        "
   ]
  },
  {
   "cell_type": "markdown",
   "metadata": {},
   "source": [
    "Sin embargo, el carácter dinámico de Python hace que _cualquier_ expresión pueda ser usada como condición, y será evaluada como expresión lógica siguiendo unas reglas:\n",
    "* una cadena es `True` si su longitud es mayor de cero\n",
    "* un entero es `True` si es distinto de cero\n",
    "* `None` es siempre falso\n",
    "* para unir expresiones lógicas, se usan las conectivas, que en Python se escriben como texto: `and`, `or`, `not`"
   ]
  },
  {
   "cell_type": "code",
   "execution_count": 12,
   "metadata": {},
   "outputs": [
    {
     "name": "stdout",
     "output_type": "stream",
     "text": [
      "ok\n"
     ]
    }
   ],
   "source": [
    "c = None\n",
    "if \"notempty\" and not c:\n",
    "    print( \"ok\")"
   ]
  },
  {
   "cell_type": "markdown",
   "metadata": {},
   "source": [
    "`for` es una estructura especialmente útil en Python porque permite iterar sobre colecciones de Python. Las colecciones las veremos más adelante, pero el siguiente código da una idea:"
   ]
  },
  {
   "cell_type": "code",
   "execution_count": 13,
   "metadata": {},
   "outputs": [
    {
     "name": "stdout",
     "output_type": "stream",
     "text": [
      "2\n",
      "4\n",
      "6\n",
      "8\n"
     ]
    }
   ],
   "source": [
    "lista = [1, 2, 3, 4]\n",
    "\n",
    "for n in lista:\n",
    "    print( n*2 )"
   ]
  },
  {
   "cell_type": "markdown",
   "metadata": {},
   "source": [
    "## 2.3. Funciones\n",
    "\n",
    "Las funciones en Python se definen mediante `def`, a continuación el nombre de la función y, entre paréntesis, los parámetros que recibe (que pueden ir en varias líneas); al igual que las estructuras de control es necesario terminar la declaración con dos puntos. A continuación viene el cuerpo de la función, que como es norma en Python se delimita mediante mayor espaciado a la izquierda. Si la función devuelve un valor, se usa `return <expresión>`\n",
    "\n",
    "```Python\n",
    "     def nombre( <lista_de_parametros> ):\n",
    "         <cuerpo de la funcion>\n",
    "```\n",
    "\n",
    "Por ejemplo:"
   ]
  },
  {
   "cell_type": "code",
   "execution_count": 14,
   "metadata": {},
   "outputs": [],
   "source": [
    "def cuadrado( num ):\n",
    "    return num*num"
   ]
  },
  {
   "cell_type": "code",
   "execution_count": 15,
   "metadata": {},
   "outputs": [
    {
     "data": {
      "text/plain": [
       "16"
      ]
     },
     "execution_count": 15,
     "metadata": {},
     "output_type": "execute_result"
    }
   ],
   "source": [
    "# A la función se la llama de la forma usual, con los parámetros entre paréntesis\n",
    "cuadrado(4)"
   ]
  },
  {
   "cell_type": "markdown",
   "metadata": {},
   "source": [
    "Una función es un objeto \"normal\" de Python, que puede referenciarse usando su nombre (sin paréntesis). Esa es una distinción importante en Python:\n",
    "* usar el nombre sin paréntesis es una _referencia_ a la función. Entre otras cosas, permite programación funcional (como por ejemplo funciones de nivel superior)\n",
    "* usar el nombre con paréntesis _llama a la función_"
   ]
  },
  {
   "cell_type": "code",
   "execution_count": 16,
   "metadata": {},
   "outputs": [
    {
     "data": {
      "text/plain": [
       "<function __main__.cuadrado(num)>"
      ]
     },
     "execution_count": 16,
     "metadata": {},
     "output_type": "execute_result"
    }
   ],
   "source": [
    "# Esto no ejecuta nada, sólo devuelve una referencia\n",
    "cuadrado"
   ]
  },
  {
   "cell_type": "markdown",
   "metadata": {},
   "source": [
    "### 2.3.1 Parámetros de llamada\n",
    "Python permite una gran flexibilidad en los parámetros de llamada a una función:\n",
    "1. Parámetros posicionales: aparecen con sólo su nombre, se asignan por posición y son obligatorios\n",
    "2. Parámetros nombrados: vienen después, y aparecen como `nombre=valor_por_defecto`. Son opcionales (de no \n",
    "   indicarse, toman el valor por defecto)\n",
    "3. Para indicar un número variable de argumentos, se usa un nombre que comienza por asterisco `*`. El nombre \n",
    "   es indiferente, pero la convención es usar `*args`\n",
    "4. Por último, también es posible indicar un número variable de _argumentos nombrados_, usando en este caso\n",
    "   un doble asterisco: `**kwargs`\n",
    "   \n",
    "A la hora de llamar a la función, los parámetros posicionales (fijos o opcionales) van siempre antes, y luego van los nombrados. Es posible también llamar a funciones _expandiendo_ parámetros, pero eso lo veremos cuando tratemos las colecciones.\n",
    "\n",
    "Veamos un ejemplo:"
   ]
  },
  {
   "cell_type": "code",
   "execution_count": 17,
   "metadata": {},
   "outputs": [],
   "source": [
    "def funcion_param( p1, p2, np1=None, np2=3, *args, **kwargs ):\n",
    "    print( \"posicion:\", p1, p2 )\n",
    "    print( \"nombre:\", np1, np2 )\n",
    "    print( \"posicion extra:\", args )\n",
    "    print( \"nombre extra:\", kwargs )\n",
    "    "
   ]
  },
  {
   "cell_type": "markdown",
   "metadata": {},
   "source": [
    "Esta función recibe 2 parámetros estrictamente posicionales (`p1` y `p2`), 2 nombrados (`np1` y `np2`) y parámetros extra en `args` y `**kwargs`. Al ejecutarse, escribe todos los parámetros que ha recibido.\n",
    "\n",
    "A continuación se la llama con distintos juegos de parámetros, para ver el resultado. Algunas de las llamadas fallarán, trate de ver por qué. Pruebe también a variar la llamada para coger una idea de sus efectos:"
   ]
  },
  {
   "cell_type": "code",
   "execution_count": 18,
   "metadata": {},
   "outputs": [
    {
     "name": "stdout",
     "output_type": "stream",
     "text": [
      "posicion: 12 a\n",
      "nombre: 44 prueba\n",
      "posicion extra: ()\n",
      "nombre extra: {'extra': 'ah', 'extra_p': 'p'}\n"
     ]
    }
   ],
   "source": [
    "funcion_param( 12, \"a\", 44, np2=\"prueba\", extra=\"ah\" , extra_p = \"p\")"
   ]
  },
  {
   "cell_type": "code",
   "execution_count": 21,
   "metadata": {},
   "outputs": [
    {
     "name": "stdout",
     "output_type": "stream",
     "text": [
      "posicion: 12 a\n",
      "nombre: 44 prueba\n",
      "posicion extra: ()\n",
      "nombre extra: {'extra_p': 'p'}\n"
     ]
    }
   ],
   "source": [
    "funcion_param( 12, \"a\", np1=44, np2=\"prueba\", extra_p = \"p\" )"
   ]
  },
  {
   "cell_type": "code",
   "execution_count": 23,
   "metadata": {},
   "outputs": [
    {
     "ename": "TypeError",
     "evalue": "funcion_param() got multiple values for argument 'np1'",
     "output_type": "error",
     "traceback": [
      "\u001b[0;31m---------------------------------------------------------------------------\u001b[0m",
      "\u001b[0;31mTypeError\u001b[0m                                 Traceback (most recent call last)",
      "Cell \u001b[0;32mIn [23], line 1\u001b[0m\n\u001b[0;32m----> 1\u001b[0m \u001b[43mfuncion_param\u001b[49m\u001b[43m(\u001b[49m\u001b[43m \u001b[49m\u001b[38;5;241;43m12\u001b[39;49m\u001b[43m,\u001b[49m\u001b[43m \u001b[49m\u001b[38;5;124;43m\"\u001b[39;49m\u001b[38;5;124;43ma\u001b[39;49m\u001b[38;5;124;43m\"\u001b[39;49m\u001b[43m,\u001b[49m\u001b[43m \u001b[49m\u001b[38;5;241;43m44\u001b[39;49m\u001b[43m,\u001b[49m\u001b[43m \u001b[49m\u001b[43mnp1\u001b[49m\u001b[38;5;241;43m=\u001b[39;49m\u001b[38;5;124;43m\"\u001b[39;49m\u001b[38;5;124;43mprueba\u001b[39;49m\u001b[38;5;124;43m\"\u001b[39;49m\u001b[43m,\u001b[49m\u001b[43m \u001b[49m\u001b[43mextra\u001b[49m\u001b[38;5;241;43m=\u001b[39;49m\u001b[38;5;124;43m\"\u001b[39;49m\u001b[38;5;124;43mah\u001b[39;49m\u001b[38;5;124;43m\"\u001b[39;49m\u001b[43m \u001b[49m\u001b[43m)\u001b[49m\n",
      "\u001b[0;31mTypeError\u001b[0m: funcion_param() got multiple values for argument 'np1'"
     ]
    }
   ],
   "source": [
    "funcion_param( 12, \"a\", 44, np1=\"prueba\", extra=\"ah\" )"
   ]
  },
  {
   "cell_type": "code",
   "execution_count": 24,
   "metadata": {},
   "outputs": [
    {
     "name": "stdout",
     "output_type": "stream",
     "text": [
      "posicion: 12 a\n",
      "nombre: 44 cadena\n",
      "posicion extra: ('otra cadena',)\n",
      "nombre extra: {'extra': 'ah', 'mas_extra': 'no'}\n"
     ]
    }
   ],
   "source": [
    "funcion_param( 12, \"a\", 44, \"cadena\", \"otra cadena\", extra=\"ah\", mas_extra=\"no\" )"
   ]
  },
  {
   "cell_type": "code",
   "execution_count": 25,
   "metadata": {},
   "outputs": [
    {
     "ename": "TypeError",
     "evalue": "funcion_param() got multiple values for argument 'np2'",
     "output_type": "error",
     "traceback": [
      "\u001b[0;31m---------------------------------------------------------------------------\u001b[0m",
      "\u001b[0;31mTypeError\u001b[0m                                 Traceback (most recent call last)",
      "Cell \u001b[0;32mIn [25], line 1\u001b[0m\n\u001b[0;32m----> 1\u001b[0m \u001b[43mfuncion_param\u001b[49m\u001b[43m(\u001b[49m\u001b[43m \u001b[49m\u001b[38;5;241;43m12\u001b[39;49m\u001b[43m,\u001b[49m\u001b[43m \u001b[49m\u001b[38;5;124;43m\"\u001b[39;49m\u001b[38;5;124;43ma\u001b[39;49m\u001b[38;5;124;43m\"\u001b[39;49m\u001b[43m,\u001b[49m\u001b[43m \u001b[49m\u001b[38;5;241;43m44\u001b[39;49m\u001b[43m,\u001b[49m\u001b[43m \u001b[49m\u001b[38;5;124;43m\"\u001b[39;49m\u001b[38;5;124;43mcadena\u001b[39;49m\u001b[38;5;124;43m\"\u001b[39;49m\u001b[43m,\u001b[49m\u001b[43m \u001b[49m\u001b[43mnp2\u001b[49m\u001b[38;5;241;43m=\u001b[39;49m\u001b[38;5;124;43m\"\u001b[39;49m\u001b[38;5;124;43mprueba\u001b[39;49m\u001b[38;5;124;43m\"\u001b[39;49m\u001b[43m,\u001b[49m\u001b[43m \u001b[49m\u001b[43mextra\u001b[49m\u001b[38;5;241;43m=\u001b[39;49m\u001b[38;5;124;43m\"\u001b[39;49m\u001b[38;5;124;43mah\u001b[39;49m\u001b[38;5;124;43m\"\u001b[39;49m\u001b[43m \u001b[49m\u001b[43m)\u001b[49m\n",
      "\u001b[0;31mTypeError\u001b[0m: funcion_param() got multiple values for argument 'np2'"
     ]
    }
   ],
   "source": [
    "funcion_param( 12, \"a\", 44, \"cadena\", np2=\"prueba\", extra=\"ah\" )"
   ]
  },
  {
   "cell_type": "markdown",
   "metadata": {},
   "source": [
    "### 2.3.2 Comentarios de función\n",
    "Si se añade justo a continuación de la función una cadena extendida (usando comillas por triplicado), esa cadena se considera la _documentación_ de la función (\"_docstring_\"). Es una práctica muy extendida en Python"
   ]
  },
  {
   "cell_type": "code",
   "execution_count": 26,
   "metadata": {},
   "outputs": [],
   "source": [
    "def cuadrado( n ):\n",
    "    '''Calcula el cuadrado de un número'''\n",
    "    return n*n # aquí estoy calculando el cuadrado"
   ]
  },
  {
   "cell_type": "code",
   "execution_count": 27,
   "metadata": {},
   "outputs": [
    {
     "data": {
      "text/plain": [
       "<function __main__.cuadrado(n)>"
      ]
     },
     "execution_count": 27,
     "metadata": {},
     "output_type": "execute_result"
    }
   ],
   "source": [
    "cuadrado"
   ]
  },
  {
   "cell_type": "code",
   "execution_count": 28,
   "metadata": {},
   "outputs": [
    {
     "name": "stdout",
     "output_type": "stream",
     "text": [
      "Help on function cuadrado in module __main__:\n",
      "\n",
      "cuadrado(n)\n",
      "    Calcula el cuadrado de un número\n",
      "\n"
     ]
    }
   ],
   "source": [
    "# El comando help() puede devolver la documentación de una función\n",
    "help(cuadrado)"
   ]
  },
  {
   "cell_type": "markdown",
   "metadata": {},
   "source": [
    "### 2.3.3 Funciones anónimas\n",
    "\n",
    "Un detalle adicional de Python, también en línea con rasgos de programación funcional, es que es posible crear funciones \"anónimas\" (_lambdas_): "
   ]
  },
  {
   "cell_type": "code",
   "execution_count": 29,
   "metadata": {},
   "outputs": [],
   "source": [
    "cuadrado = lambda x : x*x"
   ]
  },
  {
   "cell_type": "markdown",
   "metadata": {},
   "source": [
    "Las funciones anónimas se pueden asignar a variables (como se ha hecho en la celda anterior), y usarse como funciones normales"
   ]
  },
  {
   "cell_type": "code",
   "execution_count": 30,
   "metadata": {},
   "outputs": [
    {
     "data": {
      "text/plain": [
       "25"
      ]
     },
     "execution_count": 30,
     "metadata": {},
     "output_type": "execute_result"
    }
   ],
   "source": [
    "cuadrado( 5 )"
   ]
  },
  {
   "cell_type": "code",
   "execution_count": null,
   "metadata": {},
   "outputs": [],
   "source": []
  }
 ],
 "metadata": {
  "kernelspec": {
   "display_name": "Python 3 (ipykernel)",
   "language": "python",
   "name": "python3"
  },
  "language_info": {
   "codemirror_mode": {
    "name": "ipython",
    "version": 3
   },
   "file_extension": ".py",
   "mimetype": "text/x-python",
   "name": "python",
   "nbconvert_exporter": "python",
   "pygments_lexer": "ipython3",
   "version": "3.10.12"
  }
 },
 "nbformat": 4,
 "nbformat_minor": 2
}
