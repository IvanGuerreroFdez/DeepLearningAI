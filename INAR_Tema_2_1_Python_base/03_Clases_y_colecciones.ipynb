{
 "cells": [
  {
   "cell_type": "markdown",
   "metadata": {},
   "source": [
    "<div style=\"font-size: 200%; font-weight: bold; color: maroon;\">Clases y colecciones en Python</div>\n"
   ]
  },
  {
   "cell_type": "markdown",
   "metadata": {},
   "source": [
    "## Enlaces recomendados\n",
    "\n",
    "Estructura de datos tipo lista: https://byte-mind.net/curso-python-estructura-de-datos-tipo-lista/\n",
    "\n",
    "Estructura de datos tipo tupla: https://byte-mind.net/curso-python-estructura-datos-tipo-tupla/\n",
    "\n",
    "Estructura de datos tipo diccionario: https://byte-mind.net/curso-python-tema-8-estructura-datos-tipo-diccionario/\n",
    "\n",
    "POO Programación Orientada a Objetos: https://byte-mind.net/curso-python-poo/"
   ]
  },
  {
   "cell_type": "markdown",
   "metadata": {},
   "source": [
    "# Conceptos nuevos de Programación Orientada a Objetos\n",
    "\n",
    "POO es una metodología genérica de programación. Python es una lenguaje con orientación clara a objetos. Antes de proseguir explicando la Programación Orientada a Objetos debemos tener más o menos claro la diferencia entre una clase y un objeto:\n",
    "\n",
    "Una clase es una plantilla para la creación de objetos de datos según un modelo definido previamente. Las clases se utilizan para la definición de atributos (variables) y métodos (funciones).\n",
    "\n",
    "Un objeto sería una instancia de esa clase, es decir, un objeto sería la llamada a una clase. \n",
    "\n",
    "De hecho todas las \"entidades\" de Python pueden considerarse objetos de una clase (por ejemplo, las cadenas son instancias de la clase `str`).\n",
    "\n",
    "Para crear un objeto de una clase se \"llama\" a la clase como si fuera una función; eso invoca al constructor de la clase, que devuelve un objeto creado. A esos objetos se le pueden aplicar los métodos de la clase; a los métodos de una clase se accede con la notación habitual `objeto.metodo( param )`\n",
    "\n",
    "Por ejemplo para la clase `str` hay disponibles [una gran cantidad de métodos](https://docs.python.org/3/library/stdtypes.html#string-methods). \n",
    "\n",
    "Veremos todo esto más adelante con algún ejemplo, pero de momento es esencial que diferenciemos:\n",
    "\n",
    "- Clase es el concepto abstracto para definición de objetos que puede contener atributos(variables) y métodos (funciones). Ojo que empezaremos a utilizar mucho el concepto de \"método\" asociado a una clase.\n",
    "- Objeto: instanciación o \"concreción\" de una clase.\n",
    "- Método: función u operaciones definidas en la clase. Se llaman con el '.' por ejemplo si sabem que upper es un método asociado a una cadena podemos usarlo así:"
   ]
  },
  {
   "cell_type": "code",
   "execution_count": 1,
   "metadata": {},
   "outputs": [
    {
     "data": {
      "text/plain": [
       "'UNA CADENA'"
      ]
     },
     "execution_count": 1,
     "metadata": {},
     "output_type": "execute_result"
    }
   ],
   "source": [
    "cd = str(\"una cadena\")\n",
    "\n",
    "cd.upper()"
   ]
  },
  {
   "cell_type": "markdown",
   "metadata": {},
   "source": [
    "# Colecciones\n",
    "\n",
    "Por encima de los tipos básicos que hemos visto, Python posee tipos más complejos, para representar diferentes tipos de colecciones de objetos: listas, tuplas, diccionarios y sets. \n",
    "\n",
    "\n",
    "## Listas\n",
    "\n",
    "Una lista es simplemente una colección ordenada de elementos. Cada elemento puede ser cualquier tipo de objeto. Tiene el tipo `list`, pero puede crearse usando corchetes.\n",
    "\n",
    "Para acceder a un elemento de una lista, se usan también corchetes como con las cadenas y el índice del elemento buscado (teniendo cuidado de que en Python el primer elemento es el 0). También es posible seleccionar una sublista (_slice_) usando los dos puntos: `[start:stop]` o `[start:stop:step]`"
   ]
  },
  {
   "cell_type": "code",
   "execution_count": 2,
   "metadata": {},
   "outputs": [
    {
     "name": "stdout",
     "output_type": "stream",
     "text": [
      "[1, 2, None, 'a', 2.5]\n",
      "elemento 1: 2\n",
      "elementos 2 y 3: [None, 'a', 2.5]\n"
     ]
    },
    {
     "data": {
      "text/plain": [
       "[1, 'otra', None, 'a', 2.5]"
      ]
     },
     "execution_count": 2,
     "metadata": {},
     "output_type": "execute_result"
    }
   ],
   "source": [
    "l1 = [ 1, 2,None,'a', 2.5, ]\n",
    "\n",
    "print( l1 )\n",
    "\n",
    "# Selecciona un elemento\n",
    "print( \"elemento 1:\", l1[1] )\n",
    "\n",
    "# Selecciona una sublista: 2:5 selecciona los elementos 2, 3 y 4 (pero como la lista solo tiene \n",
    "# elementos del 0 al 3), la operación en realidad devuelve los elementos 2 y 3\n",
    "print( \"elementos 2 y 3:\", l1[2:] )\n",
    "\n",
    "# Asigna un valor a un elemento de la lista\n",
    "l1[1] = 'otra'\n",
    "\n",
    "# Veamos cómo ha quedado\n",
    "l1"
   ]
  },
  {
   "cell_type": "code",
   "execution_count": 3,
   "metadata": {},
   "outputs": [
    {
     "name": "stdout",
     "output_type": "stream",
     "text": [
      "Help on built-in function append:\n",
      "\n",
      "append(object, /) method of builtins.list instance\n",
      "    Append object to the end of the list.\n",
      "\n"
     ]
    }
   ],
   "source": [
    "l1\n",
    "help(l1.append)"
   ]
  },
  {
   "cell_type": "code",
   "execution_count": 4,
   "metadata": {},
   "outputs": [
    {
     "name": "stdout",
     "output_type": "stream",
     "text": [
      "elementos con indices de 2 a 5: [None, 'a', 2.5]\n"
     ]
    }
   ],
   "source": [
    "l1.append(\"añadido\")\n",
    "print( \"elementos con indices de 2 a 5:\", l1[2:5] )\n"
   ]
  },
  {
   "cell_type": "markdown",
   "metadata": {},
   "source": [
    "## Tuplas\n",
    "\n",
    "Una tupla es una colección ordenada, igual que una lista. La única diferencia es que una tupla es inmutable: no se puede modificar una vez creada. Su tipo es `tuple` y se crea mediante paréntesis en vez de corchetes\n",
    "\n",
    "Para acceder a elementos se hace igual que con listas: se indexa con corchetes"
   ]
  },
  {
   "cell_type": "code",
   "execution_count": 5,
   "metadata": {},
   "outputs": [
    {
     "name": "stdout",
     "output_type": "stream",
     "text": [
      "2\n",
      "('a', 2.5)\n"
     ]
    }
   ],
   "source": [
    "t1 = ( 1, 2, 'a', 2.5 )\n",
    "\n",
    "print( t1[1] )\n",
    "print( t1[2:4] )"
   ]
  },
  {
   "cell_type": "code",
   "execution_count": 6,
   "metadata": {},
   "outputs": [
    {
     "ename": "TypeError",
     "evalue": "'tuple' object does not support item assignment",
     "output_type": "error",
     "traceback": [
      "\u001b[0;31m---------------------------------------------------------------------------\u001b[0m",
      "\u001b[0;31mTypeError\u001b[0m                                 Traceback (most recent call last)",
      "Cell \u001b[0;32mIn [6], line 2\u001b[0m\n\u001b[1;32m      1\u001b[0m \u001b[38;5;66;03m# Una tupla es inmutable: esto fallará\u001b[39;00m\n\u001b[0;32m----> 2\u001b[0m \u001b[43mt1\u001b[49m\u001b[43m[\u001b[49m\u001b[38;5;241;43m3\u001b[39;49m\u001b[43m]\u001b[49m \u001b[38;5;241m=\u001b[39m \u001b[38;5;124m'\u001b[39m\u001b[38;5;124motra\u001b[39m\u001b[38;5;124m'\u001b[39m\n",
      "\u001b[0;31mTypeError\u001b[0m: 'tuple' object does not support item assignment"
     ]
    }
   ],
   "source": [
    "# Una tupla es inmutable: esto fallará\n",
    "t1[3] = 'otra'"
   ]
  },
  {
   "cell_type": "markdown",
   "metadata": {},
   "source": [
    "Dado que los paréntesis se usan también para expresiones, para crear una tupla con un solo elemento es necesario añadir una coma final. Comparemos:"
   ]
  },
  {
   "cell_type": "code",
   "execution_count": 7,
   "metadata": {},
   "outputs": [
    {
     "name": "stdout",
     "output_type": "stream",
     "text": [
      "44\n",
      "(44,)\n",
      "<class 'int'> <class 'tuple'>\n"
     ]
    }
   ],
   "source": [
    "vA = (44)\n",
    "vB = (44,)\n",
    "\n",
    "print(vA)\n",
    "print(vB)\n",
    "print( type(vA), type(vB) )"
   ]
  },
  {
   "cell_type": "markdown",
   "metadata": {},
   "source": [
    "## Diccionarios\n",
    "\n",
    "Una diccionario es una colección no ordenada de pares _clave_, _valor_. El tipo es `dict` y se crea mediante llaves"
   ]
  },
  {
   "cell_type": "code",
   "execution_count": 8,
   "metadata": {},
   "outputs": [],
   "source": [
    "d1 = { 'lunes' : 10, 'martes' : 8, 'miercoles' : 32, 'jueves' : 12, 'viernes' : 4 }"
   ]
  },
  {
   "cell_type": "markdown",
   "metadata": {},
   "source": [
    "Cuando llamamos al objeto definido con la clave, nos devolverá el valor asociado"
   ]
  },
  {
   "cell_type": "code",
   "execution_count": 9,
   "metadata": {},
   "outputs": [
    {
     "data": {
      "text/plain": [
       "10"
      ]
     },
     "execution_count": 9,
     "metadata": {},
     "output_type": "execute_result"
    }
   ],
   "source": [
    "d1['lunes']"
   ]
  },
  {
   "cell_type": "markdown",
   "metadata": {},
   "source": [
    "Pero fallará si lo que le proporcionamos es simplemente el valor"
   ]
  },
  {
   "cell_type": "code",
   "execution_count": 10,
   "metadata": {},
   "outputs": [
    {
     "ename": "KeyError",
     "evalue": "10",
     "output_type": "error",
     "traceback": [
      "\u001b[0;31m---------------------------------------------------------------------------\u001b[0m",
      "\u001b[0;31mKeyError\u001b[0m                                  Traceback (most recent call last)",
      "Cell \u001b[0;32mIn [10], line 1\u001b[0m\n\u001b[0;32m----> 1\u001b[0m \u001b[43md1\u001b[49m\u001b[43m[\u001b[49m\u001b[38;5;241;43m10\u001b[39;49m\u001b[43m]\u001b[49m\n",
      "\u001b[0;31mKeyError\u001b[0m: 10"
     ]
    }
   ],
   "source": [
    "d1[10]"
   ]
  },
  {
   "cell_type": "markdown",
   "metadata": {},
   "source": [
    "## Sets\n",
    "Un set es también una colección no ordenada, pero esta vez de elementos sueltos. Se crea también mediante llaves.\n"
   ]
  },
  {
   "cell_type": "code",
   "execution_count": 11,
   "metadata": {},
   "outputs": [],
   "source": [
    "s1 = { 'enero', 'febrero', 'marzo ' }"
   ]
  },
  {
   "cell_type": "code",
   "execution_count": 12,
   "metadata": {},
   "outputs": [
    {
     "data": {
      "text/plain": [
       "{'enero', 'febrero', 'marzo '}"
      ]
     },
     "execution_count": 12,
     "metadata": {},
     "output_type": "execute_result"
    }
   ],
   "source": [
    "s1"
   ]
  },
  {
   "cell_type": "markdown",
   "metadata": {},
   "source": [
    "Para crear un set vacío no puede usarse `{ }`, puesto que eso crea un **diccionario** vacío. En vez de ello se puede usar el constructor sin parámetros: `set()`_"
   ]
  },
  {
   "cell_type": "code",
   "execution_count": 13,
   "metadata": {},
   "outputs": [],
   "source": [
    "vacio = set()"
   ]
  },
  {
   "cell_type": "code",
   "execution_count": 14,
   "metadata": {},
   "outputs": [
    {
     "data": {
      "text/plain": [
       "set()"
      ]
     },
     "execution_count": 14,
     "metadata": {},
     "output_type": "execute_result"
    }
   ],
   "source": [
    "vacio"
   ]
  },
  {
   "cell_type": "code",
   "execution_count": 15,
   "metadata": {},
   "outputs": [],
   "source": [
    "dos_set = [vacio , s1]"
   ]
  },
  {
   "cell_type": "code",
   "execution_count": 16,
   "metadata": {},
   "outputs": [
    {
     "name": "stdout",
     "output_type": "stream",
     "text": [
      "<class 'list'>\n"
     ]
    }
   ],
   "source": [
    "dos_set\n",
    "print(type(dos_set))"
   ]
  },
  {
   "cell_type": "markdown",
   "metadata": {},
   "source": [
    "## Colecciones compuestas\n",
    "\n",
    "Los elementos de una colección Python son arbitrarios, luego pueden ser también otras colecciones. Esto permite por tanto crear estructuras anidadas para cumplir las necesidades de modelado.\n",
    "\n",
    "Por ejemplo, este es un diccionario que contiene listas, tuplas y sets"
   ]
  },
  {
   "cell_type": "code",
   "execution_count": 17,
   "metadata": {},
   "outputs": [],
   "source": [
    "complicado = { 'lista' :  [1, 2, 3],\n",
    "               'tupla' : ( { 1 : \"lunes\", 'dos' : \"martes \"}, 4, \"final\"),\n",
    "                'set' : { 'enero', 'febrero'} }"
   ]
  },
  {
   "cell_type": "code",
   "execution_count": 18,
   "metadata": {},
   "outputs": [
    {
     "data": {
      "text/plain": [
       "{'lista': [1, 2, 3],\n",
       " 'tupla': ({1: 'lunes', 'dos': 'martes '}, 4, 'final'),\n",
       " 'set': {'enero', 'febrero'}}"
      ]
     },
     "execution_count": 18,
     "metadata": {},
     "output_type": "execute_result"
    }
   ],
   "source": [
    "complicado"
   ]
  },
  {
   "cell_type": "code",
   "execution_count": 19,
   "metadata": {},
   "outputs": [
    {
     "name": "stdout",
     "output_type": "stream",
     "text": [
      "{'lista': [1, 2, 3],\n",
      " 'set': {'febrero', 'enero'},\n",
      " 'tupla': ({1: 'lunes', 'dos': 'martes '}, 4, 'final')}\n"
     ]
    }
   ],
   "source": [
    "# pprint es un paquete de Python que permite escribir colecciones complejas de forma legible\n",
    "import pprint\n",
    "pprint.pprint( complicado )"
   ]
  },
  {
   "cell_type": "code",
   "execution_count": 20,
   "metadata": {},
   "outputs": [
    {
     "data": {
      "text/plain": [
       "'martes '"
      ]
     },
     "execution_count": 20,
     "metadata": {},
     "output_type": "execute_result"
    }
   ],
   "source": [
    "complicado['tupla'][0]['dos']"
   ]
  },
  {
   "cell_type": "markdown",
   "metadata": {},
   "source": [
    "## Operaciones sobre colecciones\n",
    "\n",
    "### Pertenencia\n",
    "\n",
    "Para saber si una colección contiene un elemento se usa el operador `in`. Funciona con todas, aunque con sets y diccionarios es rápida (porque están indexados), mientras que con listas y tuplas tiene que recorrerse toda la colección, por lo que si es grande puede tardar"
   ]
  },
  {
   "cell_type": "code",
   "execution_count": 21,
   "metadata": {},
   "outputs": [
    {
     "data": {
      "text/plain": [
       "False"
      ]
     },
     "execution_count": 21,
     "metadata": {},
     "output_type": "execute_result"
    }
   ],
   "source": [
    "'febrero' in l1"
   ]
  },
  {
   "cell_type": "markdown",
   "metadata": {},
   "source": [
    "### Añadir elementos\n",
    "Para añadir elementos a una colección se usan distintos métodos:\n",
    "* las listas tienen el método `append` que añade al final, y el método `insert` que añade en otra posición\n",
    "* los sets tienen el método `add`\n",
    "* para diccionarios, simplemente se accede al nuevo elemento y se le da un valor\n",
    "Las tuplas, al ser inmutables, no permiten añadir nuevos elementos"
   ]
  },
  {
   "cell_type": "markdown",
   "metadata": {},
   "source": [
    "# ejemplo nivel 1\n",
    "## nivel 2\n",
    "\n",
    "texto"
   ]
  },
  {
   "cell_type": "code",
   "execution_count": 25,
   "metadata": {
    "scrolled": true
   },
   "outputs": [
    {
     "name": "stdout",
     "output_type": "stream",
     "text": [
      "Help on list object:\n",
      "\n",
      "class list(object)\n",
      " |  list(iterable=(), /)\n",
      " |  \n",
      " |  Built-in mutable sequence.\n",
      " |  \n",
      " |  If no argument is given, the constructor creates a new empty list.\n",
      " |  The argument must be an iterable if specified.\n",
      " |  \n",
      " |  Methods defined here:\n",
      " |  \n",
      " |  __add__(self, value, /)\n",
      " |      Return self+value.\n",
      " |  \n",
      " |  __contains__(self, key, /)\n",
      " |      Return key in self.\n",
      " |  \n",
      " |  __delitem__(self, key, /)\n",
      " |      Delete self[key].\n",
      " |  \n",
      " |  __eq__(self, value, /)\n",
      " |      Return self==value.\n",
      " |  \n",
      " |  __ge__(self, value, /)\n",
      " |      Return self>=value.\n",
      " |  \n",
      " |  __getattribute__(self, name, /)\n",
      " |      Return getattr(self, name).\n",
      " |  \n",
      " |  __getitem__(...)\n",
      " |      x.__getitem__(y) <==> x[y]\n",
      " |  \n",
      " |  __gt__(self, value, /)\n",
      " |      Return self>value.\n",
      " |  \n",
      " |  __iadd__(self, value, /)\n",
      " |      Implement self+=value.\n",
      " |  \n",
      " |  __imul__(self, value, /)\n",
      " |      Implement self*=value.\n",
      " |  \n",
      " |  __init__(self, /, *args, **kwargs)\n",
      " |      Initialize self.  See help(type(self)) for accurate signature.\n",
      " |  \n",
      " |  __iter__(self, /)\n",
      " |      Implement iter(self).\n",
      " |  \n",
      " |  __le__(self, value, /)\n",
      " |      Return self<=value.\n",
      " |  \n",
      " |  __len__(self, /)\n",
      " |      Return len(self).\n",
      " |  \n",
      " |  __lt__(self, value, /)\n",
      " |      Return self<value.\n",
      " |  \n",
      " |  __mul__(self, value, /)\n",
      " |      Return self*value.\n",
      " |  \n",
      " |  __ne__(self, value, /)\n",
      " |      Return self!=value.\n",
      " |  \n",
      " |  __repr__(self, /)\n",
      " |      Return repr(self).\n",
      " |  \n",
      " |  __reversed__(self, /)\n",
      " |      Return a reverse iterator over the list.\n",
      " |  \n",
      " |  __rmul__(self, value, /)\n",
      " |      Return value*self.\n",
      " |  \n",
      " |  __setitem__(self, key, value, /)\n",
      " |      Set self[key] to value.\n",
      " |  \n",
      " |  __sizeof__(self, /)\n",
      " |      Return the size of the list in memory, in bytes.\n",
      " |  \n",
      " |  append(self, object, /)\n",
      " |      Append object to the end of the list.\n",
      " |  \n",
      " |  clear(self, /)\n",
      " |      Remove all items from list.\n",
      " |  \n",
      " |  copy(self, /)\n",
      " |      Return a shallow copy of the list.\n",
      " |  \n",
      " |  count(self, value, /)\n",
      " |      Return number of occurrences of value.\n",
      " |  \n",
      " |  extend(self, iterable, /)\n",
      " |      Extend list by appending elements from the iterable.\n",
      " |  \n",
      " |  index(self, value, start=0, stop=9223372036854775807, /)\n",
      " |      Return first index of value.\n",
      " |      \n",
      " |      Raises ValueError if the value is not present.\n",
      " |  \n",
      " |  insert(self, index, object, /)\n",
      " |      Insert object before index.\n",
      " |  \n",
      " |  pop(self, index=-1, /)\n",
      " |      Remove and return item at index (default last).\n",
      " |      \n",
      " |      Raises IndexError if list is empty or index is out of range.\n",
      " |  \n",
      " |  remove(self, value, /)\n",
      " |      Remove first occurrence of value.\n",
      " |      \n",
      " |      Raises ValueError if the value is not present.\n",
      " |  \n",
      " |  reverse(self, /)\n",
      " |      Reverse *IN PLACE*.\n",
      " |  \n",
      " |  sort(self, /, *, key=None, reverse=False)\n",
      " |      Sort the list in ascending order and return None.\n",
      " |      \n",
      " |      The sort is in-place (i.e. the list itself is modified) and stable (i.e. the\n",
      " |      order of two equal elements is maintained).\n",
      " |      \n",
      " |      If a key function is given, apply it once to each list item and sort them,\n",
      " |      ascending or descending, according to their function values.\n",
      " |      \n",
      " |      The reverse flag can be set to sort in descending order.\n",
      " |  \n",
      " |  ----------------------------------------------------------------------\n",
      " |  Class methods defined here:\n",
      " |  \n",
      " |  __class_getitem__(...) from builtins.type\n",
      " |      See PEP 585\n",
      " |  \n",
      " |  ----------------------------------------------------------------------\n",
      " |  Static methods defined here:\n",
      " |  \n",
      " |  __new__(*args, **kwargs) from builtins.type\n",
      " |      Create and return a new object.  See help(type) for accurate signature.\n",
      " |  \n",
      " |  ----------------------------------------------------------------------\n",
      " |  Data and other attributes defined here:\n",
      " |  \n",
      " |  __hash__ = None\n",
      "\n"
     ]
    }
   ],
   "source": [
    "help(l1)"
   ]
  },
  {
   "cell_type": "code",
   "execution_count": 26,
   "metadata": {},
   "outputs": [
    {
     "name": "stdout",
     "output_type": "stream",
     "text": [
      "Help on built-in function append:\n",
      "\n",
      "append(object, /) method of builtins.list instance\n",
      "    Append object to the end of the list.\n",
      "\n"
     ]
    }
   ],
   "source": [
    "help(l1.append)"
   ]
  },
  {
   "cell_type": "code",
   "execution_count": 27,
   "metadata": {},
   "outputs": [
    {
     "name": "stdout",
     "output_type": "stream",
     "text": [
      "[1, 'otra', None, 'a', 2.5, 'añadido', 'nuevo']\n",
      "----------\n",
      "{'lunes': 10, 'martes': 8, 'miercoles': 32, 'jueves': 12, 'viernes': 4, 'nuevo': 'un valor nuevo'}\n",
      "----------\n",
      "{'febrero', 'nuevo', 'marzo ', 'enero'}\n"
     ]
    }
   ],
   "source": [
    "l1.append('nuevo')\n",
    "d1['nuevo'] = 'un valor nuevo'\n",
    "s1.add( 'nuevo')\n",
    "\n",
    "print( l1, d1, s1, sep='\\n----------\\n')"
   ]
  },
  {
   "cell_type": "markdown",
   "metadata": {},
   "source": [
    "### Iteración\n",
    "\n",
    "La estructura `for` es la que permite iterar sobre todos los elementos de una colección"
   ]
  },
  {
   "cell_type": "code",
   "execution_count": 28,
   "metadata": {},
   "outputs": [
    {
     "name": "stdout",
     "output_type": "stream",
     "text": [
      "febrero\n",
      "nuevo\n",
      "marzo \n",
      "enero\n"
     ]
    }
   ],
   "source": [
    "for v in s1:\n",
    "    print(v)"
   ]
  },
  {
   "cell_type": "code",
   "execution_count": 29,
   "metadata": {},
   "outputs": [
    {
     "name": "stdout",
     "output_type": "stream",
     "text": [
      "1\n",
      "2\n",
      "a\n",
      "2.5\n"
     ]
    }
   ],
   "source": [
    "for v in t1:\n",
    "    print(v)"
   ]
  },
  {
   "cell_type": "code",
   "execution_count": 30,
   "metadata": {},
   "outputs": [
    {
     "name": "stdout",
     "output_type": "stream",
     "text": [
      "lunes\n",
      "martes\n",
      "miercoles\n",
      "jueves\n",
      "viernes\n",
      "nuevo\n"
     ]
    }
   ],
   "source": [
    "for v in d1:\n",
    "    print(v)"
   ]
  },
  {
   "cell_type": "code",
   "execution_count": 31,
   "metadata": {},
   "outputs": [
    {
     "name": "stdout",
     "output_type": "stream",
     "text": [
      "lista\n",
      "tupla\n",
      "set\n"
     ]
    }
   ],
   "source": [
    "for v in complicado:\n",
    "    print(v)"
   ]
  },
  {
   "cell_type": "markdown",
   "metadata": {},
   "source": [
    "### Tamaño\n",
    "\n",
    "La función `len` permite conocer el número de elementos de cualquier colección "
   ]
  },
  {
   "cell_type": "code",
   "execution_count": 51,
   "metadata": {},
   "outputs": [
    {
     "name": "stdout",
     "output_type": "stream",
     "text": [
      "7\n",
      "4\n",
      "6\n",
      "4\n"
     ]
    }
   ],
   "source": [
    "print( len(l1) )\n",
    "print( len(t1) )\n",
    "print( len(d1) )\n",
    "print( len(s1) )\n"
   ]
  },
  {
   "cell_type": "markdown",
   "metadata": {},
   "source": [
    "### Métodos\n",
    "\n",
    "Las coleccciones definen [numerosos métodos y operaciones](https://docs.python.org/3/tutorial/datastructures.html) para efectuar operaciones especializadas. Por ejemplo:\n",
    "* [List](https://docs.python.org/3/tutorial/datastructures.html#more-on-lists)\n",
    "* [Set](https://docs.python.org/3/library/stdtypes.html#set)\n",
    "* [Dict](https://docs.python.org/3/library/stdtypes.html#mapping-types-dict)\n",
    "\n"
   ]
  },
  {
   "cell_type": "code",
   "execution_count": 32,
   "metadata": {},
   "outputs": [
    {
     "name": "stdout",
     "output_type": "stream",
     "text": [
      "['nuevo', 'añadido', 2.5, 'a', None, 'otra', 1]\n"
     ]
    }
   ],
   "source": [
    "# List: método reverse\n",
    "l1.reverse()\n",
    "print(l1)"
   ]
  },
  {
   "cell_type": "code",
   "execution_count": null,
   "metadata": {},
   "outputs": [],
   "source": []
  },
  {
   "cell_type": "code",
   "execution_count": 33,
   "metadata": {
    "scrolled": true
   },
   "outputs": [
    {
     "data": {
      "text/plain": [
       "{'Felipe',\n",
       " 'Guille',\n",
       " 'Libertad',\n",
       " 'Mafalda',\n",
       " 'Manolito',\n",
       " 'Miguelito',\n",
       " 'Susanita'}"
      ]
     },
     "execution_count": 33,
     "metadata": {},
     "output_type": "execute_result"
    }
   ],
   "source": [
    "# Set: operador \"|\" (OR logico)\n",
    "s_a = { 'Mafalda', 'Felipe', 'Susanita', 'Miguelito', 'Manolito' }\n",
    "s_b= { 'Mafalda', 'Guille', 'Libertad' }\n",
    "s_a | s_b\n"
   ]
  },
  {
   "cell_type": "code",
   "execution_count": 34,
   "metadata": {},
   "outputs": [
    {
     "name": "stdout",
     "output_type": "stream",
     "text": [
      "Help on built-in function pop:\n",
      "\n",
      "pop(...) method of builtins.dict instance\n",
      "    D.pop(k[,d]) -> v, remove specified key and return the corresponding value.\n",
      "    \n",
      "    If the key is not found, return the default if given; otherwise,\n",
      "    raise a KeyError.\n",
      "\n"
     ]
    }
   ],
   "source": [
    "help(d1.pop)"
   ]
  },
  {
   "cell_type": "code",
   "execution_count": 55,
   "metadata": {},
   "outputs": [
    {
     "name": "stdout",
     "output_type": "stream",
     "text": [
      "Help on built-in function pop:\n",
      "\n",
      "pop(index=-1, /) method of builtins.list instance\n",
      "    Remove and return item at index (default last).\n",
      "    \n",
      "    Raises IndexError if list is empty or index is out of range.\n",
      "\n"
     ]
    }
   ],
   "source": [
    "help(l1.pop)"
   ]
  },
  {
   "cell_type": "code",
   "execution_count": 35,
   "metadata": {},
   "outputs": [
    {
     "name": "stdout",
     "output_type": "stream",
     "text": [
      "pop =  un valor nuevo \n",
      "dict =  {'lunes': 10, 'martes': 8, 'miercoles': 32, 'jueves': 12, 'viernes': 4}\n"
     ]
    }
   ],
   "source": [
    "# Dict\n",
    "v = d1.pop('nuevo')\n",
    "print( \"pop = \", v, \"\\ndict = \", d1 )"
   ]
  },
  {
   "cell_type": "markdown",
   "metadata": {},
   "source": [
    "# Clases\n",
    "\n"
   ]
  },
  {
   "cell_type": "markdown",
   "metadata": {},
   "source": [
    "## Definición de clases\n",
    "Para crear nuevas clases se usa el comando `class` de Python. Por ejemplo:\n",
    "\n",
    "Implementaremos una clase llamada Persona que tendrá como atributo (variable) el nombre de la persona y dos métodos (funciones). El primero de los métodos inicializará el atributo nombre y el segundo mostrará por pantalla el contenido del mismo. Definir dos instancias (objetos) de la clase Persona."
   ]
  },
  {
   "cell_type": "code",
   "execution_count": 36,
   "metadata": {},
   "outputs": [],
   "source": [
    "# creamos la clase\n",
    "class Persona:\n",
    "    # creamos la primera funcion\n",
    "    # para inicializar el atributo nombre\n",
    "    def inicializar( self,nom ):\n",
    "        self.nombre = nom\n",
    " \n",
    " \n",
    "    # creamos el segundo método\n",
    "    # para mostrar el nombre\n",
    "    def mostrar( self ):\n",
    "        print(\"Nombre: \",self.nombre)\n",
    " \n",
    " "
   ]
  },
  {
   "cell_type": "markdown",
   "metadata": {},
   "source": [
    "Y ahora definiremos dos instancias (objetos) de la clase Persona recién creada:"
   ]
  },
  {
   "cell_type": "code",
   "execution_count": 37,
   "metadata": {},
   "outputs": [
    {
     "name": "stdout",
     "output_type": "stream",
     "text": [
      "Nombre:  56\n",
      "Nombre:  Ivan\n"
     ]
    }
   ],
   "source": [
    "# bloque principal\n",
    "# creamos una instancia de la clase persona\n",
    "persona1 = Persona()\n",
    "persona1.inicializar( 56 ) \n",
    "persona1.mostrar()\n",
    " \n",
    "# creamos un objeto de la clase persona\n",
    "persona2 = Persona()\n",
    "persona2.inicializar( \"Ivan\" )\n",
    "persona2.mostrar()"
   ]
  },
  {
   "cell_type": "markdown",
   "metadata": {},
   "source": [
    "Varios detalles que resaltar:\n",
    "1. La sintaxis de declaración de la clase es siempre `class Name( object ):`\n",
    "  * La palabra clave `object` indica que nuestra clase hereda de la clase raíz de Python, `object` (es importante en Python 2, puesto que no usarla supone la creación de una \"clase antigua\" de Python, que no es aconsejable; en Python 3 es opcional).\n",
    "2. Dentro de una clase se define un número arbitrario de métodos. Los métodos son funciones normales de Python, con la diferencia de que siempre reciben un primer parámetro que es el objeto de la clase sobre el que se está trabajando. Ese parámetro:\n",
    "  * Puede tener cualquier nombre, es arbitrario (aunque por convención se suele llamar `self`)\n",
    "  * Ese parámetro no hay que incluirlo en los argumentos de llamada cuando se llama al método, Python lo añade de forma automática\n",
    "3. Ese parámetro `self` permite asignar campos al objeto, usando la tipica notación de acceso `objeto.campo`\n",
    "4. Un método especial, `__init__` actúa de _constructor_ de la clase (el método al que se llama cuando _se está creando_ un objecto de la clase). Los parámetros adicionales de ese método son los argumentos del constructor\n",
    "5. Existen muchos otros _nombres especiales_ como el del constructor (`__init__`); el manual de Python [contiene una larga lista](https://docs.python.org/3/reference/datamodel.html#special-method-names). \n",
    "6. Python no fuerza ningún tipo de encapsulado de datos: los campos de un objeto de Python son siempre públicos"
   ]
  },
  {
   "cell_type": "markdown",
   "metadata": {},
   "source": [
    "De hecho para Python tanto los campos como los métodos son elementos accesibles de la clase. La diferencia es que los métodos, además de acceder a ellos es posible _ejecutarlos_"
   ]
  },
  {
   "cell_type": "markdown",
   "metadata": {},
   "source": [
    "## Herencia\n",
    "\n",
    "En Python dos clases además de poder tener una relación de colaboración, también pueden tener una relación de herencia.\n",
    "\n",
    "La herencia significa que se pueden crear nuevas clases partiendo de otras clases ya existentes, que heredarán todos los atributos y métodos de su clase padre además, de poder añadir los suyos propios.\n",
    "\n",
    "Por ejemplo, si tenemos una clase llamada vehículo, esta sería la clase padre de las clases coche, moto, bicicleta… Cada una de estas subclases tendría los atributos y métodos de su padre vehículo y aparte tendrían sus propios métodos cada uno de ellos.\n"
   ]
  },
  {
   "cell_type": "markdown",
   "metadata": {},
   "source": [
    "Vamos a verlo con un ejemplo práctico\n",
    "\n",
    "Realizaremos un programa que conste de un clase Persona con dos atributos nombre y edad. Los atributos se introducirán por teclado y habrá otro método para imprimir los datos.\n"
   ]
  },
  {
   "cell_type": "code",
   "execution_count": 38,
   "metadata": {},
   "outputs": [],
   "source": [
    "class Persona:\n",
    "    # declaramos el metodo __init__\n",
    "    def __init__( self ):\n",
    "        self.nombre = input(\"Ingrese el nombre: \")\n",
    "        self.edad = int(input(\"Ingrese la edad: \"))\n",
    " \n",
    " \n",
    "    # declaramos el metodo mostrar\n",
    "    def mostrar( self ):\n",
    "        print( \"Nombre: \", self.nombre )\n",
    "        print( \"Edad: \", self.edad )\n",
    " "
   ]
  },
  {
   "cell_type": "markdown",
   "metadata": {},
   "source": [
    "A continuación declaramos una segunda clase llama Empleado que hereda de la clase Persona y agrega el atributo sueldo. Debe mostrar si tiene que pagar impuestos o no (sueldo superior a 3000)."
   ]
  },
  {
   "cell_type": "code",
   "execution_count": 39,
   "metadata": {},
   "outputs": [],
   "source": [
    "# declaramos la clase empleado\n",
    "# la clase empleado hereda los atributos y metodos de la clase Persona\n",
    "class Empleado( Persona ):\n",
    "    # declaramos el metodo __init__\n",
    "    def __init__( self ):\n",
    "        # llamamos al metodo init de la clase padre\n",
    "        self.sueldo = float(input(\"Ingrese el sueldo: \"))\n",
    "\n",
    " \n",
    "    # declaramos el metodo mostrar\n",
    "    def mostrar( self ):\n",
    "        print(\"Sueldo: \",self.sueldo)\n",
    " \n",
    " \n",
    "    # declaramos el metodo pagar_impuestos\n",
    "    # comprobara si el empleado debe pagar o no\n",
    "    def pagar_impuestos( self ):\n",
    "        if self.sueldo > 3000:\n",
    "            print(\"El empleado debe pagar impuestos.\")\n",
    "        else:\n",
    "            print(\"El empleado no paga impuestos.\")\n"
   ]
  },
  {
   "cell_type": "code",
   "execution_count": 41,
   "metadata": {},
   "outputs": [
    {
     "name": "stdout",
     "output_type": "stream",
     "text": [
      "Ingrese el nombre: pedro\n",
      "Ingrese la edad: 56\n",
      "Nombre:  pedro\n",
      "Edad:  56\n",
      "Ingrese el sueldo: 1200\n",
      "Sueldo:  1200.0\n",
      "El empleado no paga impuestos.\n"
     ]
    }
   ],
   "source": [
    "# bloque principal\n",
    "persona1=Persona()\n",
    "persona1.mostrar()\n",
    "empleado1=Empleado()\n",
    "empleado1.mostrar()\n",
    "empleado1.pagar_impuestos()\n",
    "\n"
   ]
  },
  {
   "cell_type": "code",
   "execution_count": 46,
   "metadata": {},
   "outputs": [
    {
     "ename": "TypeError",
     "evalue": "Empleado.__init__() takes 1 positional argument but 2 were given",
     "output_type": "error",
     "traceback": [
      "\u001b[0;31m---------------------------------------------------------------------------\u001b[0m",
      "\u001b[0;31mTypeError\u001b[0m                                 Traceback (most recent call last)",
      "Cell \u001b[0;32mIn [46], line 1\u001b[0m\n\u001b[0;32m----> 1\u001b[0m empleado1 \u001b[38;5;241m=\u001b[39m \u001b[43mEmpleado\u001b[49m\u001b[43m(\u001b[49m\u001b[43mpersona1\u001b[49m\u001b[43m)\u001b[49m\n",
      "\u001b[0;31mTypeError\u001b[0m: Empleado.__init__() takes 1 positional argument but 2 were given"
     ]
    }
   ],
   "source": [
    "empleado1 = Empleado(persona1)"
   ]
  },
  {
   "cell_type": "code",
   "execution_count": 45,
   "metadata": {},
   "outputs": [
    {
     "ename": "AttributeError",
     "evalue": "'Empleado' object has no attribute 'nombre'",
     "output_type": "error",
     "traceback": [
      "\u001b[0;31m---------------------------------------------------------------------------\u001b[0m",
      "\u001b[0;31mAttributeError\u001b[0m                            Traceback (most recent call last)",
      "Cell \u001b[0;32mIn [45], line 1\u001b[0m\n\u001b[0;32m----> 1\u001b[0m \u001b[38;5;28mprint\u001b[39m(\u001b[43mempleado1\u001b[49m\u001b[38;5;241;43m.\u001b[39;49m\u001b[43mnombre\u001b[49m)\n",
      "\u001b[0;31mAttributeError\u001b[0m: 'Empleado' object has no attribute 'nombre'"
     ]
    }
   ],
   "source": [
    "print(empleado1.nombre)"
   ]
  },
  {
   "cell_type": "code",
   "execution_count": null,
   "metadata": {},
   "outputs": [],
   "source": []
  }
 ],
 "metadata": {
  "kernelspec": {
   "display_name": "Python 3 (ipykernel)",
   "language": "python",
   "name": "python3"
  },
  "language_info": {
   "codemirror_mode": {
    "name": "ipython",
    "version": 3
   },
   "file_extension": ".py",
   "mimetype": "text/x-python",
   "name": "python",
   "nbconvert_exporter": "python",
   "pygments_lexer": "ipython3",
   "version": "3.10.12"
  }
 },
 "nbformat": 4,
 "nbformat_minor": 2
}
