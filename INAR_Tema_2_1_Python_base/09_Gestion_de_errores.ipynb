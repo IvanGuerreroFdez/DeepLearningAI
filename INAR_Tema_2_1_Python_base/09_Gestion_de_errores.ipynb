{
 "cells": [
  {
   "cell_type": "markdown",
   "metadata": {},
   "source": [
    "<div style=\"font-size: 200%; font-weight: bold; color: maroon;\">2.9 Gestión de errores</div>\n"
   ]
  },
  {
   "cell_type": "markdown",
   "metadata": {},
   "source": [
    "# Enlaces recomendados\n",
    "\n",
    "https://docs.python.org/2/tutorial/errors.html \n",
    "\n",
    "(avanzado, sobre todo excepciones a medida y condiciones de obligado cumplimiento o \"assert\"):\n",
    "https://python-para-impacientes.blogspot.com/2014/02/excepciones.html\n",
    "\n",
    "\n"
   ]
  },
  {
   "cell_type": "code",
   "execution_count": 1,
   "metadata": {},
   "outputs": [],
   "source": [
    "from __future__ import print_function\n",
    "import io\n"
   ]
  },
  {
   "cell_type": "markdown",
   "metadata": {},
   "source": [
    "# 1. Conceptos Básicos\n",
    "\n",
    "Distinguiremos al igual que en la documentación básica, errores de sintaxis y excepciones.\n",
    "\n",
    "## 1.1 Error de sintaxis (SyntaxError)\n",
    "\n",
    "Errores de sintaxis, o también \"parsing errors\", son errores **al escribir código python**, y normalmente los detecta al interpretar (o \"parsear\") el código, devolviendo la \"offending line\" con la coletilla \"SyntaxError\", y en ocasiones -no siempre- con una alternativa de solución.\n",
    "\n",
    "Por ejemplo:\n"
   ]
  },
  {
   "cell_type": "code",
   "execution_count": 8,
   "metadata": {},
   "outputs": [
    {
     "name": "stdout",
     "output_type": "stream",
     "text": [
      "{0: 'objeto_0.py', 1: 'objeto_1.py', 2: 'objeto_2.py', 3: 'objeto_3.py', 4: 'objeto_4.py', 5: 'objeto_5.py', 6: 'objeto_6.py', 7: 'objeto_7.py', 8: 'objeto_8.py', 9: 'objeto_9.py'}\n"
     ]
    }
   ],
   "source": [
    "dic =  {}\n",
    "\n",
    "for i in range(10): \n",
    "    dic[i] = \"objeto_\" + str(i) + \".py\"\n",
    "\n",
    "print(dic)"
   ]
  },
  {
   "cell_type": "markdown",
   "metadata": {},
   "source": [
    "En este último caso faltan los : que son estrictos en el caso de sentencias de control (if, elif, for, while...).\n",
    "\n",
    "Otros errores comunes son:\n",
    "\n",
    "## 1.2 Errores de nombres de objetos (NameError)\n",
    "\n",
    "Muy muy frecuente: llamamos a un objeto que no ha sido declarado anteriormente, o nos equivocamos. **ATENCIÓN: No lo diremos suficientemente, Python distingue mayúsculas y minúsculas, y no permite espacios ni caracteres especiales como acentos o la ñ**. \n",
    "\n",
    "Otros errores muy frecuentes son declarar una variable en plural y llamarla en singular, y en general todo tipo de equivocaciones en los nombres.\n",
    "\n",
    "Por ejemplo:\n"
   ]
  },
  {
   "cell_type": "code",
   "execution_count": 9,
   "metadata": {},
   "outputs": [
    {
     "ename": "NameError",
     "evalue": "name 'objeto' is not defined",
     "output_type": "error",
     "traceback": [
      "\u001b[0;31m---------------------------------------------------------------------------\u001b[0m",
      "\u001b[0;31mNameError\u001b[0m                                 Traceback (most recent call last)",
      "Cell \u001b[0;32mIn [9], line 4\u001b[0m\n\u001b[1;32m      1\u001b[0m objetos \u001b[38;5;241m=\u001b[39m {}\n\u001b[1;32m      3\u001b[0m \u001b[38;5;28;01mfor\u001b[39;00m x \u001b[38;5;129;01min\u001b[39;00m \u001b[38;5;28mrange\u001b[39m(\u001b[38;5;241m10\u001b[39m):\n\u001b[0;32m----> 4\u001b[0m     \u001b[43mobjeto\u001b[49m[x] \u001b[38;5;241m=\u001b[39m \u001b[38;5;124m\"\u001b[39m\u001b[38;5;124mobjeto_\u001b[39m\u001b[38;5;124m\"\u001b[39m \u001b[38;5;241m+\u001b[39m \u001b[38;5;28mstr\u001b[39m(x) \u001b[38;5;241m+\u001b[39m \u001b[38;5;124m\"\u001b[39m\u001b[38;5;124m.py\u001b[39m\u001b[38;5;124m\"\u001b[39m\n\u001b[1;32m      6\u001b[0m \u001b[38;5;28mprint\u001b[39m(objeto)\n",
      "\u001b[0;31mNameError\u001b[0m: name 'objeto' is not defined"
     ]
    }
   ],
   "source": [
    "objetos = {}\n",
    "\n",
    "for x in range(10):\n",
    "    objeto[x] = \"objeto_\" + str(x) + \".py\"\n",
    "    \n",
    "print(objeto)"
   ]
  },
  {
   "cell_type": "markdown",
   "metadata": {},
   "source": [
    "## 1.3 Errores de tipo de objeto (TypeError)\n",
    "\n",
    "Muy muy frecuente: llamamos a un objeto que no ha sido declarado anteriormente, o nos equivocamos. **ATENCIÓN: No lo diremos suficientemente, Python distingue mayúsculas y minúsculas, y no permite espacios ni caracteres especiales como acentos o la ñ**. \n",
    "\n",
    "Otros errores muy frecuentes son declarar una variable en plural y llamarla en singular, y en general todo tipo de equivocaciones en los nombres.\n",
    "\n",
    "Por ejemplo:\n"
   ]
  },
  {
   "cell_type": "code",
   "execution_count": 10,
   "metadata": {},
   "outputs": [],
   "source": [
    "def newCalculo(x, y):\n",
    "    a = 360 / x\n",
    "    b = str(y) + \" como cadena\"\n",
    "    return a, b\n"
   ]
  },
  {
   "cell_type": "code",
   "execution_count": 11,
   "metadata": {},
   "outputs": [
    {
     "ename": "TypeError",
     "evalue": "unsupported operand type(s) for /: 'int' and 'str'",
     "output_type": "error",
     "traceback": [
      "\u001b[0;31m---------------------------------------------------------------------------\u001b[0m",
      "\u001b[0;31mTypeError\u001b[0m                                 Traceback (most recent call last)",
      "Cell \u001b[0;32mIn [11], line 1\u001b[0m\n\u001b[0;32m----> 1\u001b[0m \u001b[43mnewCalculo\u001b[49m\u001b[43m(\u001b[49m\u001b[38;5;124;43m\"\u001b[39;49m\u001b[38;5;124;43m2\u001b[39;49m\u001b[38;5;124;43m\"\u001b[39;49m\u001b[43m,\u001b[49m\u001b[43m \u001b[49m\u001b[38;5;124;43m\"\u001b[39;49m\u001b[38;5;124;43m1\u001b[39;49m\u001b[38;5;124;43m\"\u001b[39;49m\u001b[43m)\u001b[49m\n",
      "Cell \u001b[0;32mIn [10], line 2\u001b[0m, in \u001b[0;36mnewCalculo\u001b[0;34m(x, y)\u001b[0m\n\u001b[1;32m      1\u001b[0m \u001b[38;5;28;01mdef\u001b[39;00m \u001b[38;5;21mnewCalculo\u001b[39m(x, y):\n\u001b[0;32m----> 2\u001b[0m     a \u001b[38;5;241m=\u001b[39m \u001b[38;5;241;43m360\u001b[39;49m\u001b[43m \u001b[49m\u001b[38;5;241;43m/\u001b[39;49m\u001b[43m \u001b[49m\u001b[43mx\u001b[49m\n\u001b[1;32m      3\u001b[0m     b \u001b[38;5;241m=\u001b[39m \u001b[38;5;28mstr\u001b[39m(y) \u001b[38;5;241m+\u001b[39m \u001b[38;5;124m\"\u001b[39m\u001b[38;5;124m como cadena\u001b[39m\u001b[38;5;124m\"\u001b[39m\n\u001b[1;32m      4\u001b[0m     \u001b[38;5;28;01mreturn\u001b[39;00m a, b\n",
      "\u001b[0;31mTypeError\u001b[0m: unsupported operand type(s) for /: 'int' and 'str'"
     ]
    }
   ],
   "source": [
    "newCalculo(\"2\", \"1\")"
   ]
  },
  {
   "cell_type": "code",
   "execution_count": 12,
   "metadata": {},
   "outputs": [
    {
     "data": {
      "text/plain": [
       "(180.0, '1.0 como cadena')"
      ]
     },
     "execution_count": 12,
     "metadata": {},
     "output_type": "execute_result"
    }
   ],
   "source": [
    "newCalculo(2.0, 1.0)"
   ]
  },
  {
   "cell_type": "code",
   "execution_count": 13,
   "metadata": {},
   "outputs": [
    {
     "data": {
      "text/plain": [
       "(180.0, '1 como cadena')"
      ]
     },
     "execution_count": 13,
     "metadata": {},
     "output_type": "execute_result"
    }
   ],
   "source": [
    "newCalculo(2, \"1\")"
   ]
  },
  {
   "cell_type": "markdown",
   "metadata": {},
   "source": [
    "## 1.4 Error por usar un índice inadecuado (IndexError)\n",
    "\n",
    "Otro tipo de error (excepción lo llamaremos también) muy frecuente: llamar a un índice de un conjunto que no exise -que está fuera del rango establecido.\n",
    "\n",
    "Por ejemplo:\n"
   ]
  },
  {
   "cell_type": "code",
   "execution_count": 14,
   "metadata": {},
   "outputs": [
    {
     "name": "stdout",
     "output_type": "stream",
     "text": [
      "rango excedido\n",
      "None\n"
     ]
    }
   ],
   "source": [
    "l = [ 0, 1, 2 ]\n",
    "\n",
    "try:\n",
    "    a = l[4]\n",
    "except IndexError:\n",
    "    print( \"rango excedido\")\n",
    "    a = None\n",
    "\n",
    "print(a)\n",
    "    "
   ]
  },
  {
   "cell_type": "markdown",
   "metadata": {},
   "source": [
    "# 2. Excepciones\n",
    "\n",
    "Aun cuando una expresión sea sintácticamente correcta, puede estar intentando hacer operaciones no permitidas. Este tipo de errores no son de \"parseo\", sino que son resultado de intentar ejecutar un código que a priori está bien escrito, y por tanto paralizarán la ejecución del resto del código.\n",
    "\n",
    "Por ejemplo:\n"
   ]
  },
  {
   "cell_type": "code",
   "execution_count": 15,
   "metadata": {},
   "outputs": [
    {
     "ename": "ZeroDivisionError",
     "evalue": "division by zero",
     "output_type": "error",
     "traceback": [
      "\u001b[0;31m---------------------------------------------------------------------------\u001b[0m",
      "\u001b[0;31mZeroDivisionError\u001b[0m                         Traceback (most recent call last)",
      "Cell \u001b[0;32mIn [15], line 1\u001b[0m\n\u001b[0;32m----> 1\u001b[0m \u001b[43mnewCalculo\u001b[49m\u001b[43m(\u001b[49m\u001b[38;5;241;43m0\u001b[39;49m\u001b[43m,\u001b[49m\u001b[43m \u001b[49m\u001b[38;5;241;43m1\u001b[39;49m\u001b[43m)\u001b[49m\n",
      "Cell \u001b[0;32mIn [10], line 2\u001b[0m, in \u001b[0;36mnewCalculo\u001b[0;34m(x, y)\u001b[0m\n\u001b[1;32m      1\u001b[0m \u001b[38;5;28;01mdef\u001b[39;00m \u001b[38;5;21mnewCalculo\u001b[39m(x, y):\n\u001b[0;32m----> 2\u001b[0m     a \u001b[38;5;241m=\u001b[39m \u001b[38;5;241;43m360\u001b[39;49m\u001b[43m \u001b[49m\u001b[38;5;241;43m/\u001b[39;49m\u001b[43m \u001b[49m\u001b[43mx\u001b[49m\n\u001b[1;32m      3\u001b[0m     b \u001b[38;5;241m=\u001b[39m \u001b[38;5;28mstr\u001b[39m(y) \u001b[38;5;241m+\u001b[39m \u001b[38;5;124m\"\u001b[39m\u001b[38;5;124m como cadena\u001b[39m\u001b[38;5;124m\"\u001b[39m\n\u001b[1;32m      4\u001b[0m     \u001b[38;5;28;01mreturn\u001b[39;00m a, b\n",
      "\u001b[0;31mZeroDivisionError\u001b[0m: division by zero"
     ]
    }
   ],
   "source": [
    "newCalculo(0, 1)"
   ]
  },
  {
   "cell_type": "markdown",
   "metadata": {},
   "source": [
    "Los errores que se detectan durante la ejecución se llaman **excepciones** y no son siempre fatales, esto es, se puede añadir código que, o evite la ejecución de las operaciones en determinadas situaciones, o que se gestione el error sin que se interrumpa el resto de ejecución del código.\n",
    "\n",
    "Podemos distinguir entre excepciones incorporadas por defecto a python (\"built-in\") y definidas por el usuario. No entraremos en estas últimas, para ello hay un tutorial muy interesante aquí:\n",
    "\n",
    "https://python-para-impacientes.blogspot.com/2014/02/excepciones.html\n",
    "\n",
    "La lista de \"built-in exceptions\" oficial de Python 2 está aquí:\n",
    "\n",
    "https://docs.python.org/2/library/exceptions.html#bltin-exceptions\n",
    "\n",
    "**(en realidad veremos que los errores de tipo y de nombre que hemos visto antes son también \"built-in exceptions\")**\n",
    "\n"
   ]
  },
  {
   "cell_type": "markdown",
   "metadata": {},
   "source": [
    "## 2.1 Manejo de excepciones con try: except\n",
    "\n",
    "Con la sentencia de control try: es posible evaluar la corrección (o los requisitos que se impongan) de un(os) objeto(s) y manejar la excepción con la sentencia de control except.\n",
    "\n",
    "Por ejemplo:\n"
   ]
  },
  {
   "cell_type": "code",
   "execution_count": 17,
   "metadata": {},
   "outputs": [
    {
     "name": "stdout",
     "output_type": "stream",
     "text": [
      "Please enter a number: l\n",
      "Oops!  That was no valid number.  Try again...\n",
      "Please enter a number: 0,8\n",
      "Oops!  That was no valid number.  Try again...\n",
      "Please enter a number: 0.2\n",
      "Oops!  That was no valid number.  Try again...\n",
      "Please enter a number: 9\n"
     ]
    }
   ],
   "source": [
    "while True:\n",
    "    try:\n",
    "        x = int(input(\"Please enter a number: \"))\n",
    "        break\n",
    "    except ValueError:\n",
    "        print (\"Oops!  That was no valid number.  Try again...\")\n"
   ]
  },
  {
   "cell_type": "markdown",
   "metadata": {},
   "source": [
    "Cáspita! Otro error (excepción predefinida en python)... De indentación. \n",
    "\n",
    "No debiera suceder si utilizamos un editor adecuado de python.\n"
   ]
  },
  {
   "cell_type": "code",
   "execution_count": 18,
   "metadata": {},
   "outputs": [
    {
     "name": "stdout",
     "output_type": "stream",
     "text": [
      "Please enter a number: 8\n"
     ]
    }
   ],
   "source": [
    "while True:\n",
    "    try:\n",
    "        x = int(input(\"Please enter a number: \"))\n",
    "        break\n",
    "    except ValueError:\n",
    "        print(\"Oops!  That was no valid number.  Try again...\")\n"
   ]
  },
  {
   "cell_type": "markdown",
   "metadata": {},
   "source": [
    "La ejecución anterior funciona del siguiente modo:\n",
    "\n",
    "- Primero se ejecuta el código entre try y except\n",
    "- Si no salta ninguna excepción no se entra en lo declarado en except y se continúa la ejecución\n",
    "- Si salta una excepción, y la excepción coincide con la(s) especificacion(es) en except, se ejecuta lo previsto en esta parte.\n",
    "- Si la excepción que salta no es la especificado en except, se pasaría a otro try, y si no lo hubiera, se paraliza la ejecución del resto del código"
   ]
  },
  {
   "cell_type": "markdown",
   "metadata": {},
   "source": [
    "De este modo se pueden manejar varios tipos de excepciones con un mismo try:\n"
   ]
  },
  {
   "cell_type": "code",
   "execution_count": null,
   "metadata": {},
   "outputs": [],
   "source": [
    "try:\n",
    "    f = open('myfile.txt')\n",
    "    s = f.readline()\n",
    "    i = int(s.strip())\n",
    "except IOError as e:\n",
    "    print(\"I/O error: \",  e)\n",
    "except ValueError:\n",
    "    print(\"Could not convert data to an integer.\")\n"
   ]
  },
  {
   "cell_type": "markdown",
   "metadata": {},
   "source": [
    "Una opción adicional de try: es la de incluir una claúsula \n",
    "\n",
    "finally:\n",
    "\n",
    "que funciona del siguiente modo: siempre se ejecuta antes de abandonar el código dentro del try, tanto si ha ocurrido una excepción como si no. Y si ocurre una excepción no contemplada también hace lo especificado además de soltar la excepción.\n"
   ]
  },
  {
   "cell_type": "code",
   "execution_count": 19,
   "metadata": {},
   "outputs": [],
   "source": [
    "def divide(x, y):\n",
    "    try:\n",
    "        result = x / y\n",
    "    except ZeroDivisionError:\n",
    "        print(\"division by zero!\")\n",
    "    else:\n",
    "        print(\"result is\", result)\n",
    "    finally:\n",
    "        print(\"executing finally clause\")\n"
   ]
  },
  {
   "cell_type": "code",
   "execution_count": 20,
   "metadata": {},
   "outputs": [
    {
     "name": "stdout",
     "output_type": "stream",
     "text": [
      "result is 2.0\n",
      "executing finally clause\n"
     ]
    }
   ],
   "source": [
    "divide(2, 1)\n"
   ]
  },
  {
   "cell_type": "code",
   "execution_count": 21,
   "metadata": {},
   "outputs": [
    {
     "name": "stdout",
     "output_type": "stream",
     "text": [
      "division by zero!\n",
      "executing finally clause\n"
     ]
    }
   ],
   "source": [
    "divide(2, 0)\n"
   ]
  },
  {
   "cell_type": "code",
   "execution_count": 22,
   "metadata": {},
   "outputs": [
    {
     "name": "stdout",
     "output_type": "stream",
     "text": [
      "executing finally clause\n"
     ]
    },
    {
     "ename": "TypeError",
     "evalue": "unsupported operand type(s) for /: 'str' and 'str'",
     "output_type": "error",
     "traceback": [
      "\u001b[0;31m---------------------------------------------------------------------------\u001b[0m",
      "\u001b[0;31mTypeError\u001b[0m                                 Traceback (most recent call last)",
      "Cell \u001b[0;32mIn [22], line 1\u001b[0m\n\u001b[0;32m----> 1\u001b[0m \u001b[43mdivide\u001b[49m\u001b[43m(\u001b[49m\u001b[38;5;124;43m\"\u001b[39;49m\u001b[38;5;124;43m2\u001b[39;49m\u001b[38;5;124;43m\"\u001b[39;49m\u001b[43m,\u001b[49m\u001b[43m \u001b[49m\u001b[38;5;124;43m\"\u001b[39;49m\u001b[38;5;124;43m1\u001b[39;49m\u001b[38;5;124;43m\"\u001b[39;49m\u001b[43m)\u001b[49m\n",
      "Cell \u001b[0;32mIn [19], line 3\u001b[0m, in \u001b[0;36mdivide\u001b[0;34m(x, y)\u001b[0m\n\u001b[1;32m      1\u001b[0m \u001b[38;5;28;01mdef\u001b[39;00m \u001b[38;5;21mdivide\u001b[39m(x, y):\n\u001b[1;32m      2\u001b[0m     \u001b[38;5;28;01mtry\u001b[39;00m:\n\u001b[0;32m----> 3\u001b[0m         result \u001b[38;5;241m=\u001b[39m \u001b[43mx\u001b[49m\u001b[43m \u001b[49m\u001b[38;5;241;43m/\u001b[39;49m\u001b[43m \u001b[49m\u001b[43my\u001b[49m\n\u001b[1;32m      4\u001b[0m     \u001b[38;5;28;01mexcept\u001b[39;00m \u001b[38;5;167;01mZeroDivisionError\u001b[39;00m:\n\u001b[1;32m      5\u001b[0m         \u001b[38;5;28mprint\u001b[39m(\u001b[38;5;124m\"\u001b[39m\u001b[38;5;124mdivision by zero!\u001b[39m\u001b[38;5;124m\"\u001b[39m)\n",
      "\u001b[0;31mTypeError\u001b[0m: unsupported operand type(s) for /: 'str' and 'str'"
     ]
    }
   ],
   "source": [
    "divide(\"2\", \"1\")"
   ]
  },
  {
   "cell_type": "markdown",
   "metadata": {},
   "source": [
    "# Ejercicio de práctica\n",
    "\n",
    "Completa el siguiente código con una sentencia try: except que capture los errores generados y nos lo diga por pantalla.\n",
    "\n",
    "NOTA: el error que produce \n",
    "\n",
    "a = int(l[3])\n",
    "\n",
    "(forzamos a que el cuarto valor de una lista previamente definida sea un entero)\n",
    "\n",
    "es ValueError"
   ]
  },
  {
   "cell_type": "code",
   "execution_count": null,
   "metadata": {},
   "outputs": [],
   "source": [
    "l = [ 0, 1, 2, 'a' ]\n",
    "\n",
    "# completa a partir de aquí con try: y con la declaración para la que queremos devolver error\n",
    "\n",
    "a = int(l[3])\n",
    "\n",
    "    "
   ]
  }
 ],
 "metadata": {
  "kernelspec": {
   "display_name": "Python 3 (ipykernel)",
   "language": "python",
   "name": "python3"
  },
  "language_info": {
   "codemirror_mode": {
    "name": "ipython",
    "version": 3
   },
   "file_extension": ".py",
   "mimetype": "text/x-python",
   "name": "python",
   "nbconvert_exporter": "python",
   "pygments_lexer": "ipython3",
   "version": "3.10.12"
  }
 },
 "nbformat": 4,
 "nbformat_minor": 2
}
