{
 "cells": [
  {
   "cell_type": "markdown",
   "metadata": {},
   "source": [
    "<div style=\"font-size: 200%; font-weight: bold; color: maroon;\">Ejercicio programación python básico</div>\n",
    "\n",
    "# NO SERÁ CALIFICADO, POR TANTO OPCIONAL, pero si lo haces, súbelo a Blackboard. Compartiremos algunas soluciones en clase\n"
   ]
  },
  {
   "cell_type": "markdown",
   "metadata": {},
   "source": [
    "# Instrucciones generales\n",
    "\n",
    "Se trata de que escribas el código python necesario para realizar las tareas descritas, con total libertad en cuanto a las casillas (cell) que puedes generar. RECUERDA: con la función \"Insert\" en el menú de jupyter puedes añadir casillas por encima y por debajo de donde te encuentrs\n",
    "\n",
    "En este control planteo ejercicios más abiertos, y **puedes -quizás incluso debes- encontrar funciones ya escritas en internet** pero deberás no solo verificar que funcionan adecuadamente en tu entorno, que es el mismo que el mío a no ser que hayas hecho cambios, sino que te recomiendo que comentes y expliques el por qué de cada paso que da el código. También aconsejo documentar de dónde se ha obtenido el código.\n",
    "\n",
    "Cada ejercicio tiene alguna ayuda en este sentido, pero insisto, tienes total libertad para reutilizar código disponible públicamente.\n",
    "\n",
    "**IMPORTANTE**\n",
    "\n",
    "Como parte del ejercicio aconsejo plantearse **pruebas unitarias**: cálculos hechos aparte de la programación que permitirán comprobar que el código funciona como debiera. Estas pruebas deben también incluir gestión de errores.\n"
   ]
  },
  {
   "cell_type": "markdown",
   "metadata": {},
   "source": [
    "# Carga inicial de librerías necesarias\n",
    "\n",
    "Es buena práctica cargar al principio del código (en este caso del notebook) las librerías necesarias.\n"
   ]
  },
  {
   "cell_type": "code",
   "execution_count": null,
   "metadata": {},
   "outputs": [],
   "source": []
  },
  {
   "cell_type": "markdown",
   "metadata": {},
   "source": [
    "# Ejercicio 1: Convertidor de moneda\n",
    "\n",
    "Debes generar un código que convierta de una divisa (\"currency_from\") a otra (\"currency_target\"), y que lo haga al menos con el euro (p. ej. \"EUR\" que es el estándar) y tienes libertad de elegir la otra moneda (o prpoponer varias, según quieras complicarlo). La tasa de cambio la puedes introducir como una constante o como un valor que tiene que introducir el usuario (con el método .input como hemos visto en ejemplos en clase).\n",
    "\n",
    "Existen multitud de ejemplos de cómo hacer esto con python en internet (aconsejo buscar en inglés):\n",
    "\n",
    "https://www.google.com/search?q=currecy+converter+python\n",
    "\n",
    "Y como ejemplo bastante abordable puedo recomendar este video-tutorial (en inglés):\n",
    "\n",
    "https://www.youtube.com/watch?v=5vfgirGPvD4\n",
    "\n",
    "Pero, **insisto, tienes total libertad de elegir otro código o hacer el tuyo propio si te sientes más cómodo**.\n",
    "\n",
    "Pero añado **dos requisitos para la corrección del ejercicio**: \n",
    "\n",
    "1. El código debe ser resistente -no fallar, no interrumpir ejecución- aun cuando el usuario introduzca un tipo de valor que no es el que pide el código. Esto es, debemos evitar la excepción TypeError utilizando las sentencias try: except.\n",
    "\n",
    "2. Para evaluar lo anterior, propón **al menos dos casos de prueba** y verifica que tu código los cumple.\n",
    "\n"
   ]
  },
  {
   "cell_type": "markdown",
   "metadata": {},
   "source": [
    "# Ejercicio 2: criptaritmético SEDE + UTAD = ROZAS por fuerza bruta\n",
    "\n",
    "\n",
    "Formulación del problema\n",
    "\n",
    "En el problema que aparece a continuación: - Cada letra representa un (y solo uno) número. Esto es, diferentes letras son estrictamente diferentes números, y una vez hecha la asignación letra-número esta permanece\n",
    "\n",
    "- El resultado numérico (después de haber sustituido letras por números) debe estar correctamente \n",
    "elaborado\n",
    "\n",
    "       UTAD  +  SEDE = ROZAS\n",
    "\n",
    "Para limpitar el número de soluciones, impondremos que\n",
    "\n",
    "S = 7\n",
    "\n",
    "NO PERMITIREMOS LOS CEROS A LA IZQUIERDA. Por tanto U > 0, S > 0 (ya lo es), R > 0\n"
   ]
  },
  {
   "cell_type": "markdown",
   "metadata": {},
   "source": [
    "Ayudas:\n",
    "\n",
    "- Generaremos bucles anidados para tantas letras como necesitemos.\n",
    "- Buscaremos entre todos los valores posibles de esas letras usando range\n"
   ]
  },
  {
   "cell_type": "code",
   "execution_count": 1,
   "metadata": {},
   "outputs": [
    {
     "name": "stdout",
     "output_type": "stream",
     "text": [
      "Help on class range in module builtins:\n",
      "\n",
      "class range(object)\n",
      " |  range(stop) -> range object\n",
      " |  range(start, stop[, step]) -> range object\n",
      " |  \n",
      " |  Return an object that produces a sequence of integers from start (inclusive)\n",
      " |  to stop (exclusive) by step.  range(i, j) produces i, i+1, i+2, ..., j-1.\n",
      " |  start defaults to 0, and stop is omitted!  range(4) produces 0, 1, 2, 3.\n",
      " |  These are exactly the valid indices for a list of 4 elements.\n",
      " |  When step is given, it specifies the increment (or decrement).\n",
      " |  \n",
      " |  Methods defined here:\n",
      " |  \n",
      " |  __bool__(self, /)\n",
      " |      True if self else False\n",
      " |  \n",
      " |  __contains__(self, key, /)\n",
      " |      Return key in self.\n",
      " |  \n",
      " |  __eq__(self, value, /)\n",
      " |      Return self==value.\n",
      " |  \n",
      " |  __ge__(self, value, /)\n",
      " |      Return self>=value.\n",
      " |  \n",
      " |  __getattribute__(self, name, /)\n",
      " |      Return getattr(self, name).\n",
      " |  \n",
      " |  __getitem__(self, key, /)\n",
      " |      Return self[key].\n",
      " |  \n",
      " |  __gt__(self, value, /)\n",
      " |      Return self>value.\n",
      " |  \n",
      " |  __hash__(self, /)\n",
      " |      Return hash(self).\n",
      " |  \n",
      " |  __iter__(self, /)\n",
      " |      Implement iter(self).\n",
      " |  \n",
      " |  __le__(self, value, /)\n",
      " |      Return self<=value.\n",
      " |  \n",
      " |  __len__(self, /)\n",
      " |      Return len(self).\n",
      " |  \n",
      " |  __lt__(self, value, /)\n",
      " |      Return self<value.\n",
      " |  \n",
      " |  __ne__(self, value, /)\n",
      " |      Return self!=value.\n",
      " |  \n",
      " |  __reduce__(...)\n",
      " |      Helper for pickle.\n",
      " |  \n",
      " |  __repr__(self, /)\n",
      " |      Return repr(self).\n",
      " |  \n",
      " |  __reversed__(...)\n",
      " |      Return a reverse iterator.\n",
      " |  \n",
      " |  count(...)\n",
      " |      rangeobject.count(value) -> integer -- return number of occurrences of value\n",
      " |  \n",
      " |  index(...)\n",
      " |      rangeobject.index(value) -> integer -- return index of value.\n",
      " |      Raise ValueError if the value is not present.\n",
      " |  \n",
      " |  ----------------------------------------------------------------------\n",
      " |  Static methods defined here:\n",
      " |  \n",
      " |  __new__(*args, **kwargs) from builtins.type\n",
      " |      Create and return a new object.  See help(type) for accurate signature.\n",
      " |  \n",
      " |  ----------------------------------------------------------------------\n",
      " |  Data descriptors defined here:\n",
      " |  \n",
      " |  start\n",
      " |  \n",
      " |  step\n",
      " |  \n",
      " |  stop\n",
      "\n"
     ]
    }
   ],
   "source": [
    "help(range)"
   ]
  },
  {
   "cell_type": "markdown",
   "metadata": {},
   "source": [
    "Por ejemplo, si queremos que un número se encuentre entre 0 y 9 podemos poner\n"
   ]
  },
  {
   "cell_type": "code",
   "execution_count": 2,
   "metadata": {},
   "outputs": [
    {
     "name": "stdout",
     "output_type": "stream",
     "text": [
      "9\n",
      "8\n",
      "7\n",
      "6\n",
      "5\n",
      "4\n",
      "3\n",
      "2\n",
      "1\n",
      "0\n"
     ]
    }
   ],
   "source": [
    "for u in range(9, -1, -1):\n",
    "    print(u)"
   ]
  },
  {
   "cell_type": "markdown",
   "metadata": {},
   "source": [
    "Y si no dejamos que el número (que luego será la palabra) comience por cero, es fácil:"
   ]
  },
  {
   "cell_type": "code",
   "execution_count": 3,
   "metadata": {
    "scrolled": true
   },
   "outputs": [
    {
     "name": "stdout",
     "output_type": "stream",
     "text": [
      "9\n",
      "8\n",
      "7\n",
      "6\n",
      "5\n",
      "4\n",
      "3\n",
      "2\n",
      "1\n"
     ]
    }
   ],
   "source": [
    "for u in range(9, 0, -1):\n",
    "    print(u)"
   ]
  },
  {
   "cell_type": "markdown",
   "metadata": {},
   "source": [
    "Y verificaremos que se cumple la condición con esta fórmula, por ejemplo para UTAD:\n",
    "\n",
    "utad = 1000 * u + 100 * t + 10 * a + d"
   ]
  }
 ],
 "metadata": {
  "kernelspec": {
   "display_name": "Python 3 (ipykernel)",
   "language": "python",
   "name": "python3"
  },
  "language_info": {
   "codemirror_mode": {
    "name": "ipython",
    "version": 3
   },
   "file_extension": ".py",
   "mimetype": "text/x-python",
   "name": "python",
   "nbconvert_exporter": "python",
   "pygments_lexer": "ipython3",
   "version": "3.12.3"
  }
 },
 "nbformat": 4,
 "nbformat_minor": 4
}
